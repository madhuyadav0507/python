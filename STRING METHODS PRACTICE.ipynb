{
 "cells": [
  {
   "cell_type": "code",
   "execution_count": 9,
   "id": "ad5b8e69",
   "metadata": {},
   "outputs": [
    {
     "name": "stdout",
     "output_type": "stream",
     "text": [
      "I am madhu\n",
      "i am madhu\n",
      "     I AM MADHU     \n",
      "2\n",
      "True\n",
      "2\n"
     ]
    }
   ],
   "source": [
    "s=\"I AM MADHU\"\n",
    "print(s.capitalize())\n",
    "print(s.casefold())\n",
    "print(s.center(20))\n",
    "print(s.count(\"M\"))\n",
    "print(s.endswith(\"U\"))\n",
    "print(s.find(\"AM\"))\n"
   ]
  },
  {
   "cell_type": "code",
   "execution_count": 15,
   "id": "99607be0",
   "metadata": {},
   "outputs": [
    {
     "name": "stdout",
     "output_type": "stream",
     "text": [
      "name=python,age=15\n",
      "madhu is,and  19 is\n",
      "my name ismadhu,i am 20 years old\n"
     ]
    }
   ],
   "source": [
    "print(\"name={},age={}\".format(\"python\",15))\n",
    "print(\"{name} is,and  {age} is\".format(name=\"madhu\",age=19))\n",
    "print(\"my name is{0},i am {1} years old\".format(\"madhu\",20))"
   ]
  },
  {
   "cell_type": "code",
   "execution_count": null,
   "id": "fcb873e9",
   "metadata": {},
   "outputs": [],
   "source": []
  }
 ],
 "metadata": {
  "kernelspec": {
   "display_name": "Python 3 (ipykernel)",
   "language": "python",
   "name": "python3"
  },
  "language_info": {
   "codemirror_mode": {
    "name": "ipython",
    "version": 3
   },
   "file_extension": ".py",
   "mimetype": "text/x-python",
   "name": "python",
   "nbconvert_exporter": "python",
   "pygments_lexer": "ipython3",
   "version": "3.11.4"
  }
 },
 "nbformat": 4,
 "nbformat_minor": 5
}
