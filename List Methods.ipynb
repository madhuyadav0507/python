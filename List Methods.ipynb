{
 "cells": [
  {
   "cell_type": "markdown",
   "id": "fea4e21e",
   "metadata": {},
   "source": [
    ">>> # List Methods"
   ]
  },
  {
   "cell_type": "markdown",
   "id": "0ee99bbf",
   "metadata": {},
   "source": [
    "# creating a list "
   ]
  },
  {
   "cell_type": "code",
   "execution_count": 9,
   "id": "25689302",
   "metadata": {},
   "outputs": [
    {
     "name": "stdout",
     "output_type": "stream",
     "text": [
      "1) created list :  ['a', 'b', 'c', 'd']\n"
     ]
    }
   ],
   "source": [
    "list=[\"a\",\"b\",\"c\",\"d\"]\n",
    "print(\"1) created list : \",list)"
   ]
  },
  {
   "cell_type": "markdown",
   "id": "9e3b7ae3",
   "metadata": {},
   "source": [
    "# append() : Append object to the end of the list."
   ]
  },
  {
   "cell_type": "code",
   "execution_count": 10,
   "id": "25c2bbec",
   "metadata": {},
   "outputs": [
    {
     "name": "stdout",
     "output_type": "stream",
     "text": [
      "1) created list :  ['a', 'b', 'c', 'd']\n",
      "2) list after append operation :  ['a', 'b', 'c', 'd', 'e']\n"
     ]
    }
   ],
   "source": [
    "#appending elements in a list\n",
    "list=[\"a\",\"b\",\"c\",\"d\"]\n",
    "print(\"1) created list : \",list)\n",
    "\n",
    "list.append(\"e\")\n",
    "print(\"2) list after append operation : \",list)"
   ]
  },
  {
   "cell_type": "markdown",
   "id": "b794ea3e",
   "metadata": {},
   "source": [
    "# insert() : Insert element based on index."
   ]
  },
  {
   "cell_type": "code",
   "execution_count": 11,
   "id": "9df6040b",
   "metadata": {},
   "outputs": [
    {
     "name": "stdout",
     "output_type": "stream",
     "text": [
      "['a', 'b', 'c', 'd']\n",
      "['a', 'A', 'b', 'c', 'd']\n"
     ]
    }
   ],
   "source": [
    "L1=[\"a\",\"b\",\"c\",\"d\"]\n",
    "print(L1)\n",
    "\n",
    "L1.insert(1,\"A\")\n",
    "print(L1)"
   ]
  },
  {
   "cell_type": "markdown",
   "id": "e95b1324",
   "metadata": {},
   "source": [
    "# accessing item"
   ]
  },
  {
   "cell_type": "code",
   "execution_count": 19,
   "id": "6cd01eac",
   "metadata": {},
   "outputs": [
    {
     "name": "stdout",
     "output_type": "stream",
     "text": [
      "1) created list :  ['a', 'b', 'c', 'd']\n",
      "2) accessing items in a list :  b\n"
     ]
    }
   ],
   "source": [
    "#accessing item in a list\n",
    "list=[\"a\",\"b\",\"c\",\"d\"]\n",
    "print(\"1) created list : \",list)\n",
    "print(\"2) accessing items in a list : \",list[1])\n"
   ]
  },
  {
   "cell_type": "markdown",
   "id": "83b31963",
   "metadata": {},
   "source": [
    "# updating item"
   ]
  },
  {
   "cell_type": "code",
   "execution_count": 20,
   "id": "971e037b",
   "metadata": {},
   "outputs": [
    {
     "name": "stdout",
     "output_type": "stream",
     "text": [
      "1) created list :  ['a', 'b', 'c', 'd']\n",
      "2) changing item in the list :  ['a', 'A', 'c', 'd']\n"
     ]
    }
   ],
   "source": [
    "list=[\"a\",\"b\",\"c\",\"d\"]\n",
    "print(\"1) created list : \",list)\n",
    "\n",
    "#changing item in a list\n",
    "list[1]=\"A\"\n",
    "print(\"2) changing item in the list : \",list)"
   ]
  },
  {
   "cell_type": "markdown",
   "id": "88889991",
   "metadata": {},
   "source": [
    "# remove() : Remove first occurrence of value."
   ]
  },
  {
   "cell_type": "code",
   "execution_count": 29,
   "id": "62a2a5d2",
   "metadata": {},
   "outputs": [
    {
     "name": "stdout",
     "output_type": "stream",
     "text": [
      "1) created list :  ['a', 'b', 'a', 'c', 'd', 1729]\n",
      "2) after removing an item :  ['a', 'b', 'a', 'c', 'd']\n",
      "None\n"
     ]
    }
   ],
   "source": [
    "#accessing item in a list\n",
    "list=[\"a\",\"b\",\"a\",\"c\",\"d\",1729]\n",
    "print(\"1) created list : \",list)\n",
    "\n",
    "#removing item in a list\n",
    "list.remove(1729)\n",
    "print(\"2) after removing an item : \",list)\n",
    "print(r)"
   ]
  },
  {
   "cell_type": "markdown",
   "id": "e9b593d9",
   "metadata": {},
   "source": [
    "# pop() : Remove and return item at index (default last)."
   ]
  },
  {
   "cell_type": "code",
   "execution_count": 28,
   "id": "d62af85f",
   "metadata": {},
   "outputs": [
    {
     "name": "stdout",
     "output_type": "stream",
     "text": [
      "['Mr.X', 1234567890]\n",
      "M\n"
     ]
    }
   ],
   "source": [
    "l=[\"Mr.X\",1234567890,\"M\"]\n",
    "r=l.pop()\n",
    "print(l)\n",
    "print(r)\n"
   ]
  },
  {
   "cell_type": "code",
   "execution_count": null,
   "id": "8103872d",
   "metadata": {},
   "outputs": [],
   "source": []
  },
  {
   "cell_type": "code",
   "execution_count": null,
   "id": "026975d5",
   "metadata": {},
   "outputs": [],
   "source": [
    "# accessing item in a list\n",
    "list=[\"a\",\"b\",\"c\",\"d\",\"e\",\"f\"]\n",
    "print(\"1) created list : \",list)\n",
    "\n",
    "#remove item in a specified index\n",
    "x = list.pop(3)\n",
    "print(\"2) Removed element is : \",x)\n",
    "print(\"3) List after pop :\",list)\n",
    "\n",
    "x = list.pop()     # its going to delete the last element\n",
    "print(\"4) List after pop :\",list)  \n",
    "\n"
   ]
  },
  {
   "cell_type": "markdown",
   "id": "05807b4e",
   "metadata": {},
   "source": [
    "# sort()"
   ]
  },
  {
   "cell_type": "code",
   "execution_count": 4,
   "id": "f41d3f02",
   "metadata": {},
   "outputs": [
    {
     "name": "stdout",
     "output_type": "stream",
     "text": [
      "[1, 3, 5, 7, 9]\n"
     ]
    }
   ],
   "source": [
    "l=[7,9,3,5,1]\n",
    "\n",
    "l.sort()\n",
    "print(l)\n",
    "\n"
   ]
  },
  {
   "cell_type": "code",
   "execution_count": 5,
   "id": "af607829",
   "metadata": {},
   "outputs": [
    {
     "name": "stdout",
     "output_type": "stream",
     "text": [
      "[7, 9, 3, 5, 1]\n",
      "[1, 3, 5, 7, 9]\n",
      "[7, 9, 3, 5, 1]\n"
     ]
    }
   ],
   "source": [
    "l=[7,9,3,5,1]\n",
    "print(l)\n",
    "\n",
    "x=sorted(l)\n",
    "print(x)\n",
    "print(l)\n"
   ]
  },
  {
   "cell_type": "code",
   "execution_count": 2,
   "id": "ed4b3755",
   "metadata": {},
   "outputs": [
    {
     "name": "stdout",
     "output_type": "stream",
     "text": [
      "Created list : [1, 2, 3, 7, 3, 9, 2, 0]\n",
      "List after sorting : [0, 1, 2, 2, 3, 3, 7, 9]\n"
     ]
    }
   ],
   "source": [
    "#sort function\n",
    "L1=[1,2,3,7,3,9,2,0]\n",
    "print(\"Created list :\",L1)\n",
    "L1.sort()\n",
    "print(\"List after sorting :\",L1)"
   ]
  },
  {
   "cell_type": "code",
   "execution_count": null,
   "id": "984dc6f1",
   "metadata": {},
   "outputs": [],
   "source": [
    "L1=[1,2,3,7,3,9,2,0]\n",
    "print(\"list before sort :\",L1)\n",
    "print(\"Sorted list :\",sorted(L1))\n",
    "print(\"List after sort :\",L1)"
   ]
  },
  {
   "cell_type": "markdown",
   "id": "40750a62",
   "metadata": {},
   "source": [
    "# copy() : Return a copy of the list."
   ]
  },
  {
   "cell_type": "code",
   "execution_count": 6,
   "id": "86043b37",
   "metadata": {},
   "outputs": [
    {
     "name": "stdout",
     "output_type": "stream",
     "text": [
      "L1 list is : [1, 2, 3, 7, 3, 9, 2, 0]\n",
      "L2 list is : [1, 2, 3, 7, 3, 9, 2, 0]\n"
     ]
    }
   ],
   "source": [
    "L1=[1,2,3,7,3,9,2,0]\n",
    "print(\"L1 list is :\",L1)\n",
    "\n",
    "L2 = L1.copy()\n",
    "print(\"L2 list is :\",L2)\n"
   ]
  },
  {
   "cell_type": "code",
   "execution_count": 7,
   "id": "0f92a037",
   "metadata": {},
   "outputs": [
    {
     "name": "stdout",
     "output_type": "stream",
     "text": [
      "['python', 3]\n"
     ]
    }
   ],
   "source": [
    "a=[\"python\",3]\n",
    "b=a.copy()\n",
    "print(b)"
   ]
  },
  {
   "cell_type": "markdown",
   "id": "fd6e9e40",
   "metadata": {},
   "source": [
    "# joining two list"
   ]
  },
  {
   "cell_type": "code",
   "execution_count": 9,
   "id": "ace2382d",
   "metadata": {},
   "outputs": [
    {
     "name": "stdout",
     "output_type": "stream",
     "text": [
      "[1, 2, 3, 4, 5, 6, 7, 8, 9, 10, 1, 2]\n"
     ]
    }
   ],
   "source": [
    "L1 = [1,2,3,4,5]\n",
    "L2 = [6,7,8,9,10,1,2]\n",
    "\n",
    "L3 = L1 + L2\n",
    "\n",
    "print(L3)"
   ]
  },
  {
   "cell_type": "markdown",
   "id": "7f7a7f8a",
   "metadata": {},
   "source": [
    "# extend() : Extend list by appending elements from the iterable."
   ]
  },
  {
   "cell_type": "code",
   "execution_count": 12,
   "id": "7c97cca4",
   "metadata": {},
   "outputs": [
    {
     "name": "stdout",
     "output_type": "stream",
     "text": [
      "[1, 2]\n",
      "[1, 2, 3, 4]\n"
     ]
    }
   ],
   "source": [
    "a=[1,2]\n",
    "print(a)\n",
    "\n",
    "b=[3,4]\n",
    "a.extend(b)\n",
    "print(a)\n",
    "\n",
    "\n",
    "b.extend(a)\n",
    "print(b)\n"
   ]
  },
  {
   "cell_type": "code",
   "execution_count": null,
   "id": "0df00c17",
   "metadata": {},
   "outputs": [],
   "source": []
  },
  {
   "cell_type": "code",
   "execution_count": null,
   "id": "a0828b4b",
   "metadata": {},
   "outputs": [],
   "source": [
    "L1 = [1,2,3,4,5]\n",
    "print(L1)\n",
    "\n",
    "L2 = [6,7,8,9,10]\n",
    "print(L2)\n",
    "\n",
    "L2.extend(L1)\n",
    "print(L2)\n"
   ]
  },
  {
   "cell_type": "code",
   "execution_count": null,
   "id": "601c4691",
   "metadata": {},
   "outputs": [],
   "source": [
    "L1 = [1,2,3,4,5]\n",
    "print(L1)\n",
    "\n",
    "L1.extend(range(6,20))\n",
    "print(L1)"
   ]
  },
  {
   "cell_type": "code",
   "execution_count": null,
   "id": "e7281cd4",
   "metadata": {},
   "outputs": [],
   "source": [
    "L1 = [1,2,3,4,5]\n",
    "print(L1)\n",
    "\n",
    "L1.extend((11,12,13,14))\n",
    "print(L1)"
   ]
  },
  {
   "cell_type": "code",
   "execution_count": null,
   "id": "3a544631",
   "metadata": {},
   "outputs": [],
   "source": []
  },
  {
   "cell_type": "markdown",
   "id": "2e1006f8",
   "metadata": {},
   "source": [
    "# count() : Return number of occurrences of value."
   ]
  },
  {
   "cell_type": "code",
   "execution_count": 14,
   "id": "762b8fc9",
   "metadata": {},
   "outputs": [
    {
     "data": {
      "text/plain": [
       "1"
      ]
     },
     "execution_count": 14,
     "metadata": {},
     "output_type": "execute_result"
    }
   ],
   "source": [
    "L1 = [1,2,3,1,5,2,1,1]\n",
    "L1.count(5)"
   ]
  },
  {
   "cell_type": "markdown",
   "id": "1df61ff3",
   "metadata": {},
   "source": [
    "# max()"
   ]
  },
  {
   "cell_type": "code",
   "execution_count": 17,
   "id": "1986caf6",
   "metadata": {},
   "outputs": [
    {
     "name": "stdout",
     "output_type": "stream",
     "text": [
      "1729\n"
     ]
    }
   ],
   "source": [
    "L1 = [1,2,3,1,5,2,1,1,1729]\n",
    "print(max(L1))"
   ]
  },
  {
   "cell_type": "markdown",
   "id": "2518328e",
   "metadata": {},
   "source": [
    "# min()"
   ]
  },
  {
   "cell_type": "code",
   "execution_count": 14,
   "id": "f1d4bbd3",
   "metadata": {},
   "outputs": [
    {
     "name": "stdout",
     "output_type": "stream",
     "text": [
      "0\n"
     ]
    }
   ],
   "source": [
    "L1 = [0,1,2,3,5,2,11,19]\n",
    "print(min(L1))"
   ]
  },
  {
   "cell_type": "markdown",
   "id": "dfd6f077",
   "metadata": {},
   "source": [
    "# reverse()"
   ]
  },
  {
   "cell_type": "code",
   "execution_count": 15,
   "id": "07afb190",
   "metadata": {},
   "outputs": [
    {
     "name": "stdout",
     "output_type": "stream",
     "text": [
      "Created list is : [1, 2, 3, 4, 5]\n",
      "List after Reverse operation :  [5, 4, 3, 2, 1]\n"
     ]
    }
   ],
   "source": [
    "L1 = [1,2,3,4,5]\n",
    "print(\"Created list is :\",L1)\n",
    "L1.reverse()\n",
    "print(\"List after Reverse operation : \",L1)"
   ]
  },
  {
   "cell_type": "code",
   "execution_count": null,
   "id": "c55d7d00",
   "metadata": {},
   "outputs": [],
   "source": []
  },
  {
   "cell_type": "markdown",
   "id": "1ac00da5",
   "metadata": {},
   "source": [
    "# index() : Return first index of value."
   ]
  },
  {
   "cell_type": "code",
   "execution_count": 22,
   "id": "45b2dc08",
   "metadata": {},
   "outputs": [
    {
     "data": {
      "text/plain": [
       "2"
      ]
     },
     "execution_count": 22,
     "metadata": {},
     "output_type": "execute_result"
    }
   ],
   "source": [
    "L1 = [\"abc\",1729,9,34]\n",
    "\n",
    "L1.index(9)\n",
    "L1.index(10)  # ERROR\n",
    "\n"
   ]
  },
  {
   "cell_type": "markdown",
   "id": "54d55263",
   "metadata": {},
   "source": [
    "# clear() : Remove all items from list."
   ]
  },
  {
   "cell_type": "code",
   "execution_count": 24,
   "id": "0c08ccfa",
   "metadata": {},
   "outputs": [
    {
     "name": "stdout",
     "output_type": "stream",
     "text": [
      "[1, 2, 3, 4, 5]\n",
      "[]\n"
     ]
    }
   ],
   "source": [
    "L1 = [1,2,3,4,5]\n",
    "print(L1)\n",
    "\n",
    "\n",
    "L1.clear()\n",
    "print(L1)\n"
   ]
  },
  {
   "cell_type": "code",
   "execution_count": null,
   "id": "79d3eb2d",
   "metadata": {},
   "outputs": [],
   "source": [
    "#creating a list\n",
    "list=[\"a\",\"b\",\"c\",\"d\"]\n",
    "print(\"1) created list : \",list)\n",
    "\n",
    "#appending elements in a list\n",
    "list.append(\"e\")\n",
    "print(\"2) list after append operation : \",list)\n",
    "\n",
    "#accessing item in a list\n",
    "print(\"3) accessing items in a list : \",list[1])\n",
    "\n",
    "#changing item in a list\n",
    "list[1]=\"A\"\n",
    "print(\"4) changing item in the list : \",list)\n",
    "\n",
    "#removing item in a list\n",
    "list.remove(\"a\")\n",
    "print(\"5) after removing an item : \",list)\n",
    "\n",
    "#pop()\n",
    "#remove item in a specified index\n",
    "print(\"6) after pop operation ; \",list.pop(3))\n",
    "print(\"6.1 ) \",list)\n",
    "\n",
    "# #loop through a list\n",
    "# print(\"7) loop through list:\")\n",
    "# for i in list:\n",
    "#     print(i)\n",
    "\n",
    "#sort function\n",
    "print(\"8) performing sort on list\")\n",
    "L1=[1,2,3,7,3,9,2,0]\n",
    "L1.sort()\n",
    "print(L1)\n",
    "\n",
    "# #coping a list\n",
    "# print(\"9) coping list\")\n",
    "L2=L1.copy()\n",
    "# print(L2)\n",
    "\n",
    "# #joining two list\n",
    "# print(\"10) joining two list\")\n",
    "# L3=L1+L2\n",
    "# print(L3)\n",
    "\n",
    "# #appending one list into the other list\n",
    "# print(\"11) appending one list into the other list\")\n",
    "# for i in L2:\n",
    "#     L1.append(i)\n",
    "# print(L1)\n",
    "\n",
    "# extend()\n",
    "print(\"12) extend methon\")\n",
    "list.extend(L2)\n",
    "print(list)\n",
    "#print(L2)\n",
    "\n",
    "# #count()\n",
    "print(list.count(\"A\"))\n",
    "\n",
    "# #max()\n",
    "# print(max([1, 2, 2, 3, 3, 7, 9]))\n",
    "\n",
    "# #min()\n",
    "# print(min([1, 2, 2, 3, 3, 7, 9]))\n",
    "\n",
    "# #reverse()\n",
    "list.reverse()\n",
    "print(list)\n",
    "\n",
    "#clear()\n",
    "# list.clear()\n",
    "# print(list)"
   ]
  },
  {
   "cell_type": "code",
   "execution_count": null,
   "id": "b2dd8eda",
   "metadata": {},
   "outputs": [],
   "source": [
    "print(list)\n",
    "x=list.pop()\n",
    "print(x)\n",
    "print(list)\n"
   ]
  },
  {
   "cell_type": "code",
   "execution_count": null,
   "id": "937df556",
   "metadata": {},
   "outputs": [],
   "source": [
    "print(list)\n",
    "list.append(\"python\")\n",
    "print(list)\n",
    "\n",
    "list.insert(3,\"Data Science\")\n",
    "print(list)"
   ]
  },
  {
   "cell_type": "code",
   "execution_count": null,
   "id": "031b583b",
   "metadata": {},
   "outputs": [],
   "source": []
  },
  {
   "cell_type": "code",
   "execution_count": null,
   "id": "df8887c7",
   "metadata": {
    "scrolled": true
   },
   "outputs": [],
   "source": [
    "print(help(list))"
   ]
  },
  {
   "cell_type": "code",
   "execution_count": null,
   "id": "7eaf3ad0",
   "metadata": {},
   "outputs": [],
   "source": [
    "print()"
   ]
  }
 ],
 "metadata": {
  "kernelspec": {
   "display_name": "Python 3 (ipykernel)",
   "language": "python",
   "name": "python3"
  },
  "language_info": {
   "codemirror_mode": {
    "name": "ipython",
    "version": 3
   },
   "file_extension": ".py",
   "mimetype": "text/x-python",
   "name": "python",
   "nbconvert_exporter": "python",
   "pygments_lexer": "ipython3",
   "version": "3.11.4"
  }
 },
 "nbformat": 4,
 "nbformat_minor": 5
}
